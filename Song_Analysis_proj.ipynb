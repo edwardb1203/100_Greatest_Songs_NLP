{
 "cells": [
  {
   "cell_type": "markdown",
   "id": "69ee4afb",
   "metadata": {},
   "source": [
    "# 100 Greatest Songs Analysis\n",
    "In this project I explore the Rolling Stone's top 100 greatest songs of all time!"
   ]
  },
  {
   "cell_type": "markdown",
   "id": "cff72a8e",
   "metadata": {},
   "source": [
    "## Section 1: Import libraries and load/clean data set"
   ]
  },
  {
   "cell_type": "code",
   "execution_count": 77,
   "id": "4c4ba94d",
   "metadata": {
    "scrolled": true
   },
   "outputs": [],
   "source": [
    "import numpy as np \n",
    "from itertools import chain\n",
    "import pandas as pd\n",
    "import matplotlib.pyplot as plt\n",
    "import unidecode\n",
    "import re\n",
    "import nltk\n",
    "from nltk import word_tokenize\n",
    "from nltk.stem import WordNetLemmatizer\n",
    "import statistics as st\n",
    "\n",
    "# Deals with small title differences -> See section 3.5\n",
    "from difflib import SequenceMatcher\n",
    "SIM_SCORE = .70\n",
    "\n",
    "# unicode_escape: Produces a string that is suitable as Unicode literal in Python source code\n",
    "df = pd.read_csv ('songdata.csv',encoding='unicode_escape')\n",
    "# This is our set of bad words\n",
    "badwords = pd.read_csv ('bad_words.csv',encoding='unicode_escape')\n"
   ]
  },
  {
   "cell_type": "markdown",
   "id": "f7c0a364",
   "metadata": {},
   "source": [
    "## Section 2: Clean our data to make it useable in HTTP request to genius"
   ]
  },
  {
   "cell_type": "code",
   "execution_count": 34,
   "id": "0dd3a07e",
   "metadata": {
    "scrolled": false
   },
   "outputs": [],
   "source": [
    "df = pd.read_csv ('songdata.csv',encoding='unicode_escape',usecols= ['title','artist','released'])"
   ]
  },
  {
   "cell_type": "code",
   "execution_count": 10,
   "id": "83d17ff2",
   "metadata": {
    "scrolled": true
   },
   "outputs": [
    {
     "data": {
      "text/html": [
       "<div>\n",
       "<style scoped>\n",
       "    .dataframe tbody tr th:only-of-type {\n",
       "        vertical-align: middle;\n",
       "    }\n",
       "\n",
       "    .dataframe tbody tr th {\n",
       "        vertical-align: top;\n",
       "    }\n",
       "\n",
       "    .dataframe thead th {\n",
       "        text-align: right;\n",
       "    }\n",
       "</style>\n",
       "<table border=\"1\" class=\"dataframe\">\n",
       "  <thead>\n",
       "    <tr style=\"text-align: right;\">\n",
       "      <th></th>\n",
       "      <th>title</th>\n",
       "      <th>artist</th>\n",
       "      <th>released</th>\n",
       "    </tr>\n",
       "  </thead>\n",
       "  <tbody>\n",
       "    <tr>\n",
       "      <th>0</th>\n",
       "      <td>Like a Rolling Stone</td>\n",
       "      <td>Bob Dylan</td>\n",
       "      <td>July, 1965</td>\n",
       "    </tr>\n",
       "    <tr>\n",
       "      <th>1</th>\n",
       "      <td>(I Can't Get No) Satisfaction'</td>\n",
       "      <td>The Rolling Stones</td>\n",
       "      <td>May, 1965</td>\n",
       "    </tr>\n",
       "    <tr>\n",
       "      <th>2</th>\n",
       "      <td>Imagine</td>\n",
       "      <td>John Lennon</td>\n",
       "      <td>October, 1971</td>\n",
       "    </tr>\n",
       "    <tr>\n",
       "      <th>3</th>\n",
       "      <td>What's Going On</td>\n",
       "      <td>Marvin Gaye</td>\n",
       "      <td>Feb, 1971</td>\n",
       "    </tr>\n",
       "    <tr>\n",
       "      <th>4</th>\n",
       "      <td>Respect</td>\n",
       "      <td>Aretha Franklin</td>\n",
       "      <td>April, 1967</td>\n",
       "    </tr>\n",
       "  </tbody>\n",
       "</table>\n",
       "</div>"
      ],
      "text/plain": [
       "                            title              artist       released\n",
       "0            Like a Rolling Stone           Bob Dylan     July, 1965\n",
       "1  (I Can't Get No) Satisfaction'  The Rolling Stones      May, 1965\n",
       "2                         Imagine         John Lennon  October, 1971\n",
       "3                 What's Going On         Marvin Gaye      Feb, 1971\n",
       "4                         Respect     Aretha Franklin    April, 1967"
      ]
     },
     "execution_count": 10,
     "metadata": {},
     "output_type": "execute_result"
    }
   ],
   "source": [
    "df.head()"
   ]
  },
  {
   "cell_type": "code",
   "execution_count": 11,
   "id": "4459e0f9",
   "metadata": {
    "scrolled": false
   },
   "outputs": [],
   "source": [
    "# A few artists need to have their names adjusted to match genius records\n",
    "df.at[99,\"artist\"] = \"Grandmaster Flash & the Furious Five\"\n",
    "df.at[32,\"artist\"] = \"Tina Turner\"\n",
    "df.at[38,\"artist\"] = \"Buddy Holly\"\n",
    "df.at[39,\"artist\"] = \"Martha Reeves & the Vandellas\"\n",
    "df.at[149,\"artist\"] = \"Grandmaster Flash & the Furious Five\"\n",
    "df.at[111,\"artist\"] = \"The Mamas & the Papas\"\n",
    "df.at[47,\"artist\"] = \"Simon & Garfunkel\"\n",
    "df.at[48,\"artist\"] = \"Eagles\"\n",
    "df.at[49,\"artist\"] = \"Smokey Robinson & The Miracles\"\n",
    "df.at[84, \"artist\"] = \"Bob Marley & the Wailers\"\n",
    "df.at[94, \"artist\"] = \"Sex Pistols\"\n",
    "df.at[144, \"artist\"] = \"Sex Pistols\"\n",
    "df.at[61,\"artist\"] = \"The Mamas & the Papas\"\n",
    "# A few titles also will not pass the similarity threshold because their genius listings are completely different\n",
    "df.at[56,\"title\"] = \"Good Golly Miss Molly\"\n",
    "df.at[106,\"title\"] = \"Good Golly Miss Molly\"\n",
    "df.at[79,\"title\"] = \"Papa’s Got a Brand New Bag (Part 1)\""
   ]
  },
  {
   "cell_type": "markdown",
   "id": "3035d699",
   "metadata": {},
   "source": [
    "### Only want the top 100 (originally 500)"
   ]
  },
  {
   "cell_type": "code",
   "execution_count": 12,
   "id": "c31ec7fc",
   "metadata": {},
   "outputs": [],
   "source": [
    "df = df.truncate(after=99)"
   ]
  },
  {
   "cell_type": "code",
   "execution_count": 13,
   "id": "f009f30a",
   "metadata": {
    "scrolled": false
   },
   "outputs": [
    {
     "data": {
      "text/html": [
       "<div>\n",
       "<style scoped>\n",
       "    .dataframe tbody tr th:only-of-type {\n",
       "        vertical-align: middle;\n",
       "    }\n",
       "\n",
       "    .dataframe tbody tr th {\n",
       "        vertical-align: top;\n",
       "    }\n",
       "\n",
       "    .dataframe thead th {\n",
       "        text-align: right;\n",
       "    }\n",
       "</style>\n",
       "<table border=\"1\" class=\"dataframe\">\n",
       "  <thead>\n",
       "    <tr style=\"text-align: right;\">\n",
       "      <th></th>\n",
       "      <th>title</th>\n",
       "      <th>artist</th>\n",
       "      <th>released</th>\n",
       "    </tr>\n",
       "  </thead>\n",
       "  <tbody>\n",
       "    <tr>\n",
       "      <th>0</th>\n",
       "      <td>Like a Rolling Stone</td>\n",
       "      <td>Bob Dylan</td>\n",
       "      <td>July, 1965</td>\n",
       "    </tr>\n",
       "    <tr>\n",
       "      <th>1</th>\n",
       "      <td>(I Can't Get No) Satisfaction'</td>\n",
       "      <td>The Rolling Stones</td>\n",
       "      <td>May, 1965</td>\n",
       "    </tr>\n",
       "    <tr>\n",
       "      <th>2</th>\n",
       "      <td>Imagine</td>\n",
       "      <td>John Lennon</td>\n",
       "      <td>October, 1971</td>\n",
       "    </tr>\n",
       "    <tr>\n",
       "      <th>3</th>\n",
       "      <td>What's Going On</td>\n",
       "      <td>Marvin Gaye</td>\n",
       "      <td>Feb, 1971</td>\n",
       "    </tr>\n",
       "    <tr>\n",
       "      <th>4</th>\n",
       "      <td>Respect</td>\n",
       "      <td>Aretha Franklin</td>\n",
       "      <td>April, 1967</td>\n",
       "    </tr>\n",
       "  </tbody>\n",
       "</table>\n",
       "</div>"
      ],
      "text/plain": [
       "                            title              artist       released\n",
       "0            Like a Rolling Stone           Bob Dylan     July, 1965\n",
       "1  (I Can't Get No) Satisfaction'  The Rolling Stones      May, 1965\n",
       "2                         Imagine         John Lennon  October, 1971\n",
       "3                 What's Going On         Marvin Gaye      Feb, 1971\n",
       "4                         Respect     Aretha Franklin    April, 1967"
      ]
     },
     "execution_count": 13,
     "metadata": {},
     "output_type": "execute_result"
    }
   ],
   "source": [
    "df.head()"
   ]
  },
  {
   "cell_type": "markdown",
   "id": "e7f7936f",
   "metadata": {},
   "source": [
    "## Section 3: Format our HTTP requests"
   ]
  },
  {
   "cell_type": "code",
   "execution_count": 14,
   "id": "c0cf83c7",
   "metadata": {
    "scrolled": false
   },
   "outputs": [],
   "source": [
    "# Make HTTP requests\n",
    "import requests\n",
    "# Scrape data from an HTML document\n",
    "from bs4 import BeautifulSoup\n",
    "# I/O\n",
    "import os\n",
    "# Search and manipulate strings\n",
    "import re\n",
    "\n",
    "GENIUS_API_ACCESS_TOKEN = '5rQGaYZkkiF1WO-wMuFrSR9pMf9xMEpKoF9MZxLvSjhwVPeGobaUAwB89nfFf_d-'"
   ]
  },
  {
   "cell_type": "markdown",
   "id": "421393aa",
   "metadata": {},
   "source": [
    "###  Section 3.5: Discovered that the song titles need further cleaning \n",
    "There is a big issue I encountered with the data set. Many of the song names do not match their genius listings, which is causing the scraper to get hung. At first, I tried to just manually make the adjustments because I figured there couldn't be that many.... but it turns out there are a lot. So I decided to compute a similarity score between titles instead of direct comparison. This makes it so that if the titles are about 70% similar to each other, they will be counted as the same title."
   ]
  },
  {
   "cell_type": "code",
   "execution_count": 15,
   "id": "f1f8d591",
   "metadata": {
    "scrolled": false
   },
   "outputs": [],
   "source": [
    "# Get artist object from Genius API\n",
    "def request_artist_info(artist_name, page):\n",
    "    base_url = 'https://api.genius.com'\n",
    "    headers = {'Authorization': 'Bearer ' + GENIUS_API_ACCESS_TOKEN}\n",
    "    search_url = base_url + '/search?per_page=10&page=' + str(page)\n",
    "    data = {'q': artist_name}\n",
    "    response = requests.get(search_url, data=data, headers=headers)\n",
    "    return response"
   ]
  },
  {
   "cell_type": "code",
   "execution_count": null,
   "id": "046c8bd9",
   "metadata": {},
   "outputs": [],
   "source": [
    "# Get Genius.com song url's from artist object\n",
    "def request_song_url(artist_name,title):\n",
    "    page = 1\n",
    "    url = \"\"\n",
    "    \n",
    "    while True:\n",
    "        response = request_artist_info(artist_name, page)\n",
    "        json = response.json()\n",
    "        # Collect song info\n",
    "        song_info = []\n",
    "        for hit in json['response']['hits']:\n",
    "            if artist_name.lower() in hit['result']['primary_artist']['name'].lower():\n",
    "                song_info.append(hit)\n",
    "        # Collect song URL's from song objects, only if title matches what we want\n",
    "        for song in song_info:\n",
    "            # Get rid of annoying characters found with repr() function... issue is that the title we pass\n",
    "            # in from our data frame may not match the song title that appears on genius.\n",
    "            fix_song = (unidecode.unidecode(song['result']['title'])).replace(\"'\", \"\")\n",
    "            fix_song = fix_song.replace(\" \",\"\")\n",
    "            fix_song = re.sub(r'\\W+', '', fix_song)\n",
    "            title = title.replace(\"'\", \"\")\n",
    "            title = title.replace(\" \", \"\")\n",
    "            title = re.sub(r'\\W+', '', title)\n",
    "            # After stripping and removing weirds chars we see if the titles are 70% similar, the reason\n",
    "            # we cannot simply remove weird chars is because sometimes titles are missing entire phrases \n",
    "            # or coordinating conjuctions\n",
    "            if ((SequenceMatcher(None, fix_song.strip().lower(), title.strip().lower()).ratio()) > SIM_SCORE):\n",
    "                print(title)\n",
    "                url = song['result']['url']\n",
    "        # If we found our song then break and do the next\n",
    "        if (url != \"\"):\n",
    "            break\n",
    "        # Otherwise keep looking for the song\n",
    "        else:\n",
    "            page += 1\n",
    "            \n",
    "    return url"
   ]
  },
  {
   "cell_type": "markdown",
   "id": "8c6a0056",
   "metadata": {},
   "source": [
    "## Section 4: Scrape the lyrics!"
   ]
  },
  {
   "cell_type": "code",
   "execution_count": 16,
   "id": "7737e2cd",
   "metadata": {
    "scrolled": false
   },
   "outputs": [],
   "source": [
    "# Scrape lyrics from a Genius.com song URL\n",
    "def scrape_song_lyrics(url):\n",
    "    page = requests.get(url)\n",
    "    html = BeautifulSoup(page.text, 'html.parser')\n",
    "    lyrics = html.find('div', class_=\"Lyrics__Container-sc-1ynbvzw-6 YYrds\").get_text()\n",
    "    # remove identifiers like chorus, verse, etc\n",
    "    lyrics = re.sub(r'[\\(\\[].*?[\\)\\]]', '', lyrics)        \n",
    "    return lyrics"
   ]
  },
  {
   "cell_type": "markdown",
   "id": "56ffa164",
   "metadata": {},
   "source": [
    "### Section 4.5: Add lyrics to our df and save as csv for later use"
   ]
  },
  {
   "cell_type": "code",
   "execution_count": null,
   "id": "887d66ec",
   "metadata": {
    "scrolled": true
   },
   "outputs": [],
   "source": [
    "for row in range(len(df)):\n",
    "    # Get the URL\n",
    "    song_url = request_song_url(df.at[row, \"artist\"], (df.at[row, \"title\"]))\n",
    "    # Set corresponding lyric row to scraped lyrics\n",
    "    df.at[row,'lyrics'] = scrape_song_lyrics(song_url)\n",
    "\n",
    "# FOR TESTING \n",
    "# song_url = request_song_url(\"Example Artist\", \"Example Title\")\n",
    "# lyrics = scrape_song_lyrics(song_url)\n",
    "# print(song_url)\n",
    "# print(lyrics)\n",
    "    "
   ]
  },
  {
   "cell_type": "code",
   "execution_count": 81,
   "id": "4db048f1",
   "metadata": {},
   "outputs": [],
   "source": [
    "# df.to_csv('/Users/edwardbaker/Desktop/Song Analysis/songs_&_lyrics2.csv')"
   ]
  },
  {
   "cell_type": "code",
   "execution_count": 82,
   "id": "9fc35b51",
   "metadata": {},
   "outputs": [],
   "source": [
    "df =  pd.read_csv('songs_&_lyrics2.csv',encoding='unicode_escape', usecols=['title','artist','released','lyrics'])"
   ]
  },
  {
   "cell_type": "code",
   "execution_count": 83,
   "id": "e5bb511b",
   "metadata": {},
   "outputs": [
    {
     "data": {
      "text/html": [
       "<div>\n",
       "<style scoped>\n",
       "    .dataframe tbody tr th:only-of-type {\n",
       "        vertical-align: middle;\n",
       "    }\n",
       "\n",
       "    .dataframe tbody tr th {\n",
       "        vertical-align: top;\n",
       "    }\n",
       "\n",
       "    .dataframe thead th {\n",
       "        text-align: right;\n",
       "    }\n",
       "</style>\n",
       "<table border=\"1\" class=\"dataframe\">\n",
       "  <thead>\n",
       "    <tr style=\"text-align: right;\">\n",
       "      <th></th>\n",
       "      <th>title</th>\n",
       "      <th>artist</th>\n",
       "      <th>released</th>\n",
       "      <th>lyrics</th>\n",
       "    </tr>\n",
       "  </thead>\n",
       "  <tbody>\n",
       "    <tr>\n",
       "      <th>0</th>\n",
       "      <td>Like a Rolling Stone</td>\n",
       "      <td>Bob Dylan</td>\n",
       "      <td>July, 1965</td>\n",
       "      <td>Once upon a time you dressed so fineThrew the ...</td>\n",
       "    </tr>\n",
       "    <tr>\n",
       "      <th>1</th>\n",
       "      <td>(I Can't Get No) Satisfaction'</td>\n",
       "      <td>The Rolling Stones</td>\n",
       "      <td>May, 1965</td>\n",
       "      <td>I can't get no satisfactionI can't get no sati...</td>\n",
       "    </tr>\n",
       "    <tr>\n",
       "      <th>2</th>\n",
       "      <td>Imagine</td>\n",
       "      <td>John Lennon</td>\n",
       "      <td>October, 1971</td>\n",
       "      <td>Imagine there's no heavenIt's easy if you tryN...</td>\n",
       "    </tr>\n",
       "    <tr>\n",
       "      <th>3</th>\n",
       "      <td>What's Going On</td>\n",
       "      <td>Marvin Gaye</td>\n",
       "      <td>Feb, 1971</td>\n",
       "      <td>Hey, hey-heyHey, what's happenin'?Hey, brother...</td>\n",
       "    </tr>\n",
       "    <tr>\n",
       "      <th>4</th>\n",
       "      <td>Respect</td>\n",
       "      <td>Aretha Franklin</td>\n",
       "      <td>April, 1967</td>\n",
       "      <td>What you want, baby, I got itWhat you need, do...</td>\n",
       "    </tr>\n",
       "  </tbody>\n",
       "</table>\n",
       "</div>"
      ],
      "text/plain": [
       "                            title              artist       released  \\\n",
       "0            Like a Rolling Stone           Bob Dylan     July, 1965   \n",
       "1  (I Can't Get No) Satisfaction'  The Rolling Stones      May, 1965   \n",
       "2                         Imagine         John Lennon  October, 1971   \n",
       "3                 What's Going On         Marvin Gaye      Feb, 1971   \n",
       "4                         Respect     Aretha Franklin    April, 1967   \n",
       "\n",
       "                                              lyrics  \n",
       "0  Once upon a time you dressed so fineThrew the ...  \n",
       "1  I can't get no satisfactionI can't get no sati...  \n",
       "2  Imagine there's no heavenIt's easy if you tryN...  \n",
       "3  Hey, hey-heyHey, what's happenin'?Hey, brother...  \n",
       "4  What you want, baby, I got itWhat you need, do...  "
      ]
     },
     "execution_count": 83,
     "metadata": {},
     "output_type": "execute_result"
    }
   ],
   "source": [
    "df.head()"
   ]
  },
  {
   "cell_type": "markdown",
   "id": "24377b33",
   "metadata": {},
   "source": [
    "## Section 5: Reformat the lyrics text\n",
    "Currently, the spacing is incorrect due to the formatting on genius. How can we identify where one sentence begins and ends with no punctuation? Go through all the words, check to see where we have our captial letters, this well help us split up our sentences. We can do this using regex positive look ahead. We will turn the lyrics into token arrays with the help of NLTK as well."
   ]
  },
  {
   "cell_type": "code",
   "execution_count": 84,
   "id": "c33f1dcd",
   "metadata": {},
   "outputs": [],
   "source": [
    "for i in range(len(df)):\n",
    "    df.at[i,'lyrics'] = re.split('(?=[A-Z])',df.at[i,'lyrics'])"
   ]
  },
  {
   "cell_type": "code",
   "execution_count": 85,
   "id": "45721c29",
   "metadata": {
    "scrolled": true
   },
   "outputs": [],
   "source": [
    "for i in range(len(df)):\n",
    "    words = [[]]\n",
    "    for sent in df.at[i,'lyrics']:\n",
    "        # word_tokenize sometimes struggles with apostrophe, so lets take care of this\n",
    "        # it also counts commas and exclamation as words so lets strip those\n",
    "        sent = re.sub(\"[',!]\", '', str(sent))\n",
    "        # we don't want to add empty lists\n",
    "        if sent:\n",
    "            words.append(word_tokenize(sent))\n",
    "    # flatten array\n",
    "    words = list(chain.from_iterable(words))\n",
    "    df.at[i,'lyrics'] = words"
   ]
  },
  {
   "cell_type": "code",
   "execution_count": 86,
   "id": "18768225",
   "metadata": {},
   "outputs": [
    {
     "data": {
      "text/html": [
       "<div>\n",
       "<style scoped>\n",
       "    .dataframe tbody tr th:only-of-type {\n",
       "        vertical-align: middle;\n",
       "    }\n",
       "\n",
       "    .dataframe tbody tr th {\n",
       "        vertical-align: top;\n",
       "    }\n",
       "\n",
       "    .dataframe thead th {\n",
       "        text-align: right;\n",
       "    }\n",
       "</style>\n",
       "<table border=\"1\" class=\"dataframe\">\n",
       "  <thead>\n",
       "    <tr style=\"text-align: right;\">\n",
       "      <th></th>\n",
       "      <th>title</th>\n",
       "      <th>artist</th>\n",
       "      <th>released</th>\n",
       "      <th>lyrics</th>\n",
       "    </tr>\n",
       "  </thead>\n",
       "  <tbody>\n",
       "    <tr>\n",
       "      <th>0</th>\n",
       "      <td>Like a Rolling Stone</td>\n",
       "      <td>Bob Dylan</td>\n",
       "      <td>July, 1965</td>\n",
       "      <td>[Once, upon, a, time, you, dressed, so, fine, ...</td>\n",
       "    </tr>\n",
       "    <tr>\n",
       "      <th>1</th>\n",
       "      <td>(I Can't Get No) Satisfaction'</td>\n",
       "      <td>The Rolling Stones</td>\n",
       "      <td>May, 1965</td>\n",
       "      <td>[I, cant, get, no, satisfaction, I, cant, get,...</td>\n",
       "    </tr>\n",
       "    <tr>\n",
       "      <th>2</th>\n",
       "      <td>Imagine</td>\n",
       "      <td>John Lennon</td>\n",
       "      <td>October, 1971</td>\n",
       "      <td>[Imagine, theres, no, heaven, Its, easy, if, y...</td>\n",
       "    </tr>\n",
       "    <tr>\n",
       "      <th>3</th>\n",
       "      <td>What's Going On</td>\n",
       "      <td>Marvin Gaye</td>\n",
       "      <td>Feb, 1971</td>\n",
       "      <td>[Hey, hey-hey, Hey, whats, happenin, ?, Hey, b...</td>\n",
       "    </tr>\n",
       "    <tr>\n",
       "      <th>4</th>\n",
       "      <td>Respect</td>\n",
       "      <td>Aretha Franklin</td>\n",
       "      <td>April, 1967</td>\n",
       "      <td>[What, you, want, baby, I, got, it, What, you,...</td>\n",
       "    </tr>\n",
       "  </tbody>\n",
       "</table>\n",
       "</div>"
      ],
      "text/plain": [
       "                            title              artist       released  \\\n",
       "0            Like a Rolling Stone           Bob Dylan     July, 1965   \n",
       "1  (I Can't Get No) Satisfaction'  The Rolling Stones      May, 1965   \n",
       "2                         Imagine         John Lennon  October, 1971   \n",
       "3                 What's Going On         Marvin Gaye      Feb, 1971   \n",
       "4                         Respect     Aretha Franklin    April, 1967   \n",
       "\n",
       "                                              lyrics  \n",
       "0  [Once, upon, a, time, you, dressed, so, fine, ...  \n",
       "1  [I, cant, get, no, satisfaction, I, cant, get,...  \n",
       "2  [Imagine, theres, no, heaven, Its, easy, if, y...  \n",
       "3  [Hey, hey-hey, Hey, whats, happenin, ?, Hey, b...  \n",
       "4  [What, you, want, baby, I, got, it, What, you,...  "
      ]
     },
     "execution_count": 86,
     "metadata": {},
     "output_type": "execute_result"
    }
   ],
   "source": [
    "df.head()"
   ]
  },
  {
   "cell_type": "markdown",
   "id": "f4a94bd2",
   "metadata": {},
   "source": [
    "## Section 6: Analysis!\n",
    "What kind of interesting questions can we ask about our data?\n",
    "* At first I thought it would be interesting to see whether songs increased in vulgarity as they increased in year released. However, I did not predict that no songs would contain bad words. You will see this below."
   ]
  },
  {
   "cell_type": "markdown",
   "id": "438e9234",
   "metadata": {},
   "source": [
    "### Descriptive Stats"
   ]
  },
  {
   "cell_type": "code",
   "execution_count": 87,
   "id": "dd924365",
   "metadata": {},
   "outputs": [
    {
     "data": {
      "image/png": "[encoded data removed]",
      "text/plain": [
       "<Figure size 640x480 with 1 Axes>"
      ]
     },
     "metadata": {},
     "output_type": "display_data"
    }
   ],
   "source": [
    "# Lets get our years\n",
    "years = []\n",
    "\n",
    "for i in range(len(df)):\n",
    "    years.append(int(df.at[i,'released'].split(',')[1].strip()))\n",
    "    \n",
    "plt.hist(years)\n",
    "plt.show() "
   ]
  },
  {
   "cell_type": "markdown",
   "id": "1337af8d",
   "metadata": {},
   "source": [
    "As we can see above, our songs are almost entirely from the 50s to the 90s."
   ]
  },
  {
   "cell_type": "markdown",
   "id": "628956ce",
   "metadata": {},
   "source": [
    "### More stats..."
   ]
  },
  {
   "cell_type": "code",
   "execution_count": 88,
   "id": "609a0da8",
   "metadata": {},
   "outputs": [
    {
     "name": "stdout",
     "output_type": "stream",
     "text": [
      "The mean year for greatest song is: 1966\n",
      "The median year for greatest song is: 1966\n",
      "The mode of our years for greatest songs is: 1965\n",
      "The range of years for greatest songs is: 1906 to 1991\n",
      "The std of years for greatest songs is: 10.015422450834857\n",
      "The var of years for greatest songs is: 100.30868686868688\n"
     ]
    }
   ],
   "source": [
    "print(\"The mean year for greatest song is: \" + str(round(st.mean(years))))\n",
    "print(\"The median year for greatest song is: \" + str(round(st.median(years))))\n",
    "print(\"The mode of our years for greatest songs is: \" + str(round(st.mode(years))))\n",
    "print(\"The range of years for greatest songs is: \" + str(min(years)) + \" to \" + str(max(years)))\n",
    "print(\"The std of years for greatest songs is: \" + str(st.stdev(years)))\n",
    "print(\"The var of years for greatest songs is: \" + str(st.variance(years)))\n",
    "\n"
   ]
  },
  {
   "cell_type": "markdown",
   "id": "c759958f",
   "metadata": {},
   "source": [
    "## Q1: Is vulgarity postively correlated with year released?"
   ]
  },
  {
   "cell_type": "markdown",
   "id": "a7473873",
   "metadata": {},
   "source": [
    "#### Cleaning our bad words and making a set"
   ]
  },
  {
   "cell_type": "code",
   "execution_count": 89,
   "id": "c46dff8b",
   "metadata": {},
   "outputs": [],
   "source": [
    "bws = set()\n",
    "\n",
    "for i in range(len(badwords)):\n",
    "    badwords.at[i,'a55,'] = re.sub(\"[,*]\", '', str(badwords.at[i,'a55,']))\n",
    "    bws.add(badwords.at[i,'a55,'])"
   ]
  },
  {
   "cell_type": "markdown",
   "id": "76ca5431",
   "metadata": {},
   "source": [
    "### Vulgarity Score\n",
    "Each song is given a vulgarity score defined as $$ V = \\frac {\\sum_{i}^{}B_i}{|W|} $$\n",
    "* $$ B = Badwords, W = words $$"
   ]
  },
  {
   "cell_type": "code",
   "execution_count": 90,
   "id": "1355e40e",
   "metadata": {},
   "outputs": [],
   "source": [
    "for i in range(len(df)):\n",
    "    vulgarity_score = 0\n",
    "    bwc = 0\n",
    "    for lyric in df.at[i,'lyrics']:\n",
    "        if lyric in badwords:\n",
    "            bwc += 1\n",
    "    vulgarity_score = bwc / len(df.at[i,'lyrics'])\n",
    "    df['vulgarity_score'] = vulgarity_score"
   ]
  },
  {
   "cell_type": "code",
   "execution_count": 91,
   "id": "f287878b",
   "metadata": {},
   "outputs": [
    {
     "data": {
      "text/html": [
       "<div>\n",
       "<style scoped>\n",
       "    .dataframe tbody tr th:only-of-type {\n",
       "        vertical-align: middle;\n",
       "    }\n",
       "\n",
       "    .dataframe tbody tr th {\n",
       "        vertical-align: top;\n",
       "    }\n",
       "\n",
       "    .dataframe thead th {\n",
       "        text-align: right;\n",
       "    }\n",
       "</style>\n",
       "<table border=\"1\" class=\"dataframe\">\n",
       "  <thead>\n",
       "    <tr style=\"text-align: right;\">\n",
       "      <th></th>\n",
       "      <th>title</th>\n",
       "      <th>artist</th>\n",
       "      <th>released</th>\n",
       "      <th>lyrics</th>\n",
       "      <th>vulgarity_score</th>\n",
       "    </tr>\n",
       "  </thead>\n",
       "  <tbody>\n",
       "    <tr>\n",
       "      <th>0</th>\n",
       "      <td>Like a Rolling Stone</td>\n",
       "      <td>Bob Dylan</td>\n",
       "      <td>July, 1965</td>\n",
       "      <td>[Once, upon, a, time, you, dressed, so, fine, ...</td>\n",
       "      <td>0.0</td>\n",
       "    </tr>\n",
       "    <tr>\n",
       "      <th>1</th>\n",
       "      <td>(I Can't Get No) Satisfaction'</td>\n",
       "      <td>The Rolling Stones</td>\n",
       "      <td>May, 1965</td>\n",
       "      <td>[I, cant, get, no, satisfaction, I, cant, get,...</td>\n",
       "      <td>0.0</td>\n",
       "    </tr>\n",
       "    <tr>\n",
       "      <th>2</th>\n",
       "      <td>Imagine</td>\n",
       "      <td>John Lennon</td>\n",
       "      <td>October, 1971</td>\n",
       "      <td>[Imagine, theres, no, heaven, Its, easy, if, y...</td>\n",
       "      <td>0.0</td>\n",
       "    </tr>\n",
       "    <tr>\n",
       "      <th>3</th>\n",
       "      <td>What's Going On</td>\n",
       "      <td>Marvin Gaye</td>\n",
       "      <td>Feb, 1971</td>\n",
       "      <td>[Hey, hey-hey, Hey, whats, happenin, ?, Hey, b...</td>\n",
       "      <td>0.0</td>\n",
       "    </tr>\n",
       "    <tr>\n",
       "      <th>4</th>\n",
       "      <td>Respect</td>\n",
       "      <td>Aretha Franklin</td>\n",
       "      <td>April, 1967</td>\n",
       "      <td>[What, you, want, baby, I, got, it, What, you,...</td>\n",
       "      <td>0.0</td>\n",
       "    </tr>\n",
       "  </tbody>\n",
       "</table>\n",
       "</div>"
      ],
      "text/plain": [
       "                            title              artist       released  \\\n",
       "0            Like a Rolling Stone           Bob Dylan     July, 1965   \n",
       "1  (I Can't Get No) Satisfaction'  The Rolling Stones      May, 1965   \n",
       "2                         Imagine         John Lennon  October, 1971   \n",
       "3                 What's Going On         Marvin Gaye      Feb, 1971   \n",
       "4                         Respect     Aretha Franklin    April, 1967   \n",
       "\n",
       "                                              lyrics  vulgarity_score  \n",
       "0  [Once, upon, a, time, you, dressed, so, fine, ...              0.0  \n",
       "1  [I, cant, get, no, satisfaction, I, cant, get,...              0.0  \n",
       "2  [Imagine, theres, no, heaven, Its, easy, if, y...              0.0  \n",
       "3  [Hey, hey-hey, Hey, whats, happenin, ?, Hey, b...              0.0  \n",
       "4  [What, you, want, baby, I, got, it, What, you,...              0.0  "
      ]
     },
     "execution_count": 91,
     "metadata": {},
     "output_type": "execute_result"
    }
   ],
   "source": [
    "df.head()"
   ]
  },
  {
   "cell_type": "code",
   "execution_count": 92,
   "id": "8c0fbe7f",
   "metadata": {},
   "outputs": [],
   "source": [
    "for i in range(len(df)):\n",
    "    if df.at[i,'vulgarity_score'] > 0.0:\n",
    "        print(df.at[i,'title'])"
   ]
  },
  {
   "cell_type": "markdown",
   "id": "f61d4ae5",
   "metadata": {},
   "source": [
    "###  Q1 results: Suprisingly, none of these songs have bad words!\n",
    "Potential explanation: "
   ]
  },
  {
   "cell_type": "markdown",
   "id": "a9638db5",
   "metadata": {},
   "source": [
    "## Q2: How many songs discuss love?"
   ]
  },
  {
   "cell_type": "code",
   "execution_count": 93,
   "id": "d8a21b08",
   "metadata": {},
   "outputs": [],
   "source": [
    "love_words = {'love', 'loving', 'loved', 'lover', 'loves', 'lovers','lovely','lovingly'}"
   ]
  },
  {
   "cell_type": "code",
   "execution_count": 100,
   "id": "e37a26c0",
   "metadata": {},
   "outputs": [
    {
     "name": "stdout",
     "output_type": "stream",
     "text": [
      "39 out of 100 songs discuss love\n"
     ]
    }
   ],
   "source": [
    "love_songs = set()\n",
    "\n",
    "for i in range(len(df)):\n",
    "    lwc = 0\n",
    "    love_score = 0\n",
    "    for lyric in df.at[i,'lyrics']:\n",
    "        if lyric in love_words:\n",
    "            lwc += 1\n",
    "            love_songs.add(df.at[i,'title'])\n",
    "    love_score = (lwc / len(df.at[i,'lyrics']))\n",
    "    df.at[i,'love_score'] = love_score\n",
    "\n",
    "print(str(len(love_songs)) + \" out of 100 songs discuss love\")"
   ]
  },
  {
   "cell_type": "code",
   "execution_count": 107,
   "id": "9c8c691f",
   "metadata": {},
   "outputs": [
    {
     "data": {
      "image/png": "[encoded data removed]",
      "text/plain": [
       "<Figure size 640x480 with 1 Axes>"
      ]
     },
     "metadata": {},
     "output_type": "display_data"
    },
    {
     "name": "stdout",
     "output_type": "stream",
     "text": [
      "The mean year for love song is: 1967\n",
      "The median year for love song is: 1966\n",
      "The mode of our years for love songs is: 1965\n",
      "The range of years for love songs is: 1955 to 1991\n",
      "The std of years for love songs is: 7.702988536189312\n",
      "The var of years for love songs is: 59.336032388663966\n"
     ]
    }
   ],
   "source": [
    "# Lets get our years\n",
    "years = []\n",
    "\n",
    "for i in range(len(love_songs)):\n",
    "    years.append(int(df.at[i,'released'].split(',')[1].strip()))\n",
    "    \n",
    "plt.hist(years)\n",
    "plt.show()\n",
    "\n",
    "print(\"The mean year for love song is: \" + str(round(st.mean(years))))\n",
    "print(\"The median year for love song is: \" + str(round(st.median(years))))\n",
    "print(\"The mode of our years for love songs is: \" + str(round(st.mode(years))))\n",
    "print(\"The range of years for love songs is: \" + str(min(years)) + \" to \" + str(max(years)))\n",
    "print(\"The std of years for love songs is: \" + str(st.stdev(years)))\n",
    "print(\"The var of years for love songs is: \" + str(st.variance(years)))"
   ]
  },
  {
   "cell_type": "markdown",
   "id": "03c90e59",
   "metadata": {},
   "source": [
    "### Making a plot"
   ]
  },
  {
   "cell_type": "code",
   "execution_count": 104,
   "id": "5b21eda0",
   "metadata": {
    "scrolled": true
   },
   "outputs": [
    {
     "data": {
      "image/png": "[encoded data removed]",
      "text/plain": [
       "<Figure size 640x480 with 1 Axes>"
      ]
     },
     "metadata": {},
     "output_type": "display_data"
    }
   ],
   "source": [
    "# Lets get our x and y\n",
    "coordinates = [()]\n",
    "\n",
    "for i in range(len(df)):\n",
    "    coordinate = (int(df.at[i,'released'].split(',')[1].strip()), df.at[i,'love_score'])\n",
    "    coordinates.append(coordinate)\n",
    "\n",
    "# Unpack our list of tuples into x,y lists\n",
    "# First entry is empty, need to investigate why\n",
    "coordinates = coordinates[1:]\n",
    "x, y = zip(*coordinates)\n",
    "\n",
    "# plotting the points \n",
    "plt.plot(x, y,linestyle='None',\n",
    "         marker='o', markerfacecolor='blue', markersize=5)\n",
    "\n",
    "# setting x and y axis range\n",
    "plt.xlim(1950,2000)\n",
    "plt.xticks([1950,1955,1960,1965,1970,1975,1980,1985,1990,1995,2000])\n",
    "  \n",
    "# naming the x axis\n",
    "plt.xlabel('Year Released')\n",
    "# naming the y axis\n",
    "plt.ylabel('Love Score')\n",
    "  \n",
    "# giving a title to my graph\n",
    "plt.title('Tracking the usage of love in songs over time')\n",
    "\n",
    "# function to show the plot\n",
    "plt.show()"
   ]
  },
  {
   "cell_type": "markdown",
   "id": "07ca654f",
   "metadata": {},
   "source": [
    "###  Q2 results:\n",
    "* What we can learn is that: Love songs are very common, accounting for 39% of all songs on our list.\n",
    "* We cannot really determine if love songs are positively correlated with year released given our small amount of data\n",
    "* The most common year for love song is 1965, but that is also just the most common year for songs on our list so that doesn't really tell us much.\n"
   ]
  },
  {
   "cell_type": "markdown",
   "id": "68904f51",
   "metadata": {},
   "source": [
    "## Conclusion and whats next?\n",
    "To extend this project further there needs to be a larger data set so that we can draw more insightful conclusions. I would also like to try and do a similar project but perhaps for a particular artist."
   ]
  }
 ],
 "metadata": {
  "kernelspec": {
   "display_name": "Python 3 (ipykernel)",
   "language": "python",
   "name": "python3"
  },
  "language_info": {
   "codemirror_mode": {
    "name": "ipython",
    "version": 3
   },
   "file_extension": ".py",
   "mimetype": "text/x-python",
   "name": "python",
   "nbconvert_exporter": "python",
   "pygments_lexer": "ipython3",
   "version": "3.8.5"
  }
 },
 "nbformat": 4,
 "nbformat_minor": 5
}
